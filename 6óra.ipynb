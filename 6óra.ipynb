{
  "nbformat": 4,
  "nbformat_minor": 0,
  "metadata": {
    "colab": {
      "provenance": [],
      "authorship_tag": "ABX9TyMiWfaQq1KqBtIbC8QVYPTo",
      "include_colab_link": true
    },
    "kernelspec": {
      "name": "python3",
      "display_name": "Python 3"
    },
    "language_info": {
      "name": "python"
    }
  },
  "cells": [
    {
      "cell_type": "markdown",
      "metadata": {
        "id": "view-in-github",
        "colab_type": "text"
      },
      "source": [
        "<a href=\"https://colab.research.google.com/github/eutikhus/testrepo/blob/main/6%C3%B3ra.ipynb\" target=\"_parent\"><img src=\"https://colab.research.google.com/assets/colab-badge.svg\" alt=\"Open In Colab\"/></a>"
      ]
    },
    {
      "cell_type": "code",
      "execution_count": 1,
      "metadata": {
        "colab": {
          "base_uri": "https://localhost:8080/",
          "height": 35
        },
        "id": "EgSS9Ey50Mkj",
        "outputId": "318f2237-dfc7-4486-a1d7-a1f1ac3c554b"
      },
      "outputs": [
        {
          "output_type": "execute_result",
          "data": {
            "text/plain": [
              "''"
            ],
            "application/vnd.google.colaboratory.intrinsic+json": {
              "type": "string"
            }
          },
          "metadata": {},
          "execution_count": 1
        }
      ],
      "source": [
        "import requests\n",
        "\n",
        "data = requests.get(\"https://raw.githubusercontent.com/misrori/aoc/2020/day1.txt\").text.split('\\n')\n",
        "data.pop()"
      ]
    },
    {
      "cell_type": "code",
      "source": [
        "data"
      ],
      "metadata": {
        "id": "0UH8yAfV1LWf"
      },
      "execution_count": null,
      "outputs": []
    },
    {
      "cell_type": "code",
      "source": [
        "for a in data:\n",
        "    for b in data:\n",
        "        if (int(a)+int(b)) == 2020:\n",
        "            print (int(a)*int(b))\n",
        ""
      ],
      "metadata": {
        "colab": {
          "base_uri": "https://localhost:8080/"
        },
        "id": "e0hqfjZO1Qph",
        "outputId": "c5330d36-22f1-4eda-bf4d-a0afcdcba5cb"
      },
      "execution_count": 6,
      "outputs": [
        {
          "output_type": "stream",
          "name": "stdout",
          "text": [
            "63616\n",
            "63616\n"
          ]
        }
      ]
    },
    {
      "cell_type": "code",
      "source": [
        "gotit = False\n",
        "for a in data:\n",
        "    for b in data:\n",
        "        for c in data:\n",
        "            if (int(a)+int(b)+int(c)) == 2020:\n",
        "                gotit = True\n",
        "                print (int(a)*int(b)*int(c))\n",
        "                print (f\"a: {a}, b:{b}, c:{c}\")\n",
        "                if gotit:\n",
        "                    break\n",
        "        if gotit:\n",
        "            break\n",
        "    if gotit:\n",
        "        break"
      ],
      "metadata": {
        "id": "Kagx7FcD1vsY"
      },
      "execution_count": null,
      "outputs": []
    },
    {
      "cell_type": "code",
      "source": [],
      "metadata": {
        "id": "1W1NNav9DG_f"
      },
      "execution_count": null,
      "outputs": []
    }
  ]
}